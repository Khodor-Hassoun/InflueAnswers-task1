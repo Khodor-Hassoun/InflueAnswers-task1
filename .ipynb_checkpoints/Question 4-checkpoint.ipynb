{
 "cells": [
  {
   "cell_type": "code",
   "execution_count": 2,
   "id": "00e19868",
   "metadata": {},
   "outputs": [],
   "source": [
    "import pandas as pd\n",
    "from datetime import datetime\n",
    "from pandasql import sqldf\n",
    "pysqldf = lambda q: sqldf(q, globals())\n",
    "\n",
    "chats = pd.read_csv(\"./chatlogs/uncleanData.csv\")\n",
    "chats[\"chat_date\"] = pd.to_datetime(chats[\"chat_date\"], format = \"%Y/%m/%d\")\n",
    "chats= chats.sort_values(by=[\"chat_date\", \"chat_hour\", \"chat_minute\"])"
   ]
  },
  {
   "cell_type": "code",
   "execution_count": 16,
   "id": "f5d285e3",
   "metadata": {},
   "outputs": [],
   "source": [
    "messageQuery = \"SELECT user, COUNT(chat_message)as messages FROM chats GROUP BY USER ORDER BY messages DESC LIMIT 1\""
   ]
  },
  {
   "cell_type": "code",
   "execution_count": 19,
   "id": "61c40478",
   "metadata": {},
   "outputs": [],
   "source": [
    "userData=pysqldf(messageQuery)"
   ]
  },
  {
   "cell_type": "code",
   "execution_count": 20,
   "id": "bbc4bdf5",
   "metadata": {},
   "outputs": [],
   "source": [
    "import requests"
   ]
  },
  {
   "cell_type": "code",
   "execution_count": 21,
   "id": "5e952fb1",
   "metadata": {},
   "outputs": [],
   "source": [
    "BASE_URL = 'https://63da8f4c19fffcd620cc7ea3.mockapi.io/coding-test/chatstats'"
   ]
  },
  {
   "cell_type": "code",
   "execution_count": 34,
   "id": "8308546b",
   "metadata": {},
   "outputs": [],
   "source": [
    "payload = {'username': userData[\"user\"][0],'chat_message':str(userData[\"messages\"][0])}"
   ]
  },
  {
   "cell_type": "code",
   "execution_count": 35,
   "id": "fdb58bbb",
   "metadata": {},
   "outputs": [],
   "source": [
    "response = requests.post(BASE_URL, json=payload)"
   ]
  },
  {
   "cell_type": "code",
   "execution_count": 36,
   "id": "5daaf6c3",
   "metadata": {},
   "outputs": [],
   "source": [
    "response = requests.get(BASE_URL)"
   ]
  },
  {
   "cell_type": "code",
   "execution_count": 26,
   "id": "86be4a70",
   "metadata": {},
   "outputs": [
    {
     "name": "stdout",
     "output_type": "stream",
     "text": [
      "[{'username': 'username 1', 'chat_message': 'chat_message 1', 'id': '1'}, {'username': 'username 2', 'chat_message': 'chat_message 2', 'id': '2'}, {'username': 'username 3', 'chat_message': 'chat_message 3', 'id': '3'}, {'username': 'username 4', 'chat_message': 'chat_message 4', 'id': '4'}, {'username': 'username 5', 'chat_message': 'chat_message 5', 'id': '5'}, {'username': 'username 6', 'chat_message': 'chat_message 6', 'id': '6'}, {'username': 'username 7', 'chat_message': 'chat_message 7', 'id': '7'}, {'username': 'username 8', 'chat_message': 'chat_message 8', 'id': '8'}, {'username': 'username 9', 'chat_message': 'chat_message 9', 'id': '9'}, {'username': 'username 10', 'chat_message': 'chat_message 10', 'id': '10'}, {'username': 'username 11', 'chat_message': 'chat_message 11', 'id': '11'}, {'username': 'username 12', 'chat_message': 'chat_message 12', 'id': '12'}, {'username': 'username 13', 'chat_message': 'chat_message 13', 'id': '13'}, {'username': 'username 14', 'chat_message': 'chat_message 14', 'id': '14'}, {'username': 'username 15', 'chat_message': 'chat_message 15', 'id': '15'}, {'username': 'username 16', 'chat_message': 'chat_message 16', 'id': '16'}]\n"
     ]
    }
   ],
   "source": [
    "print(response.json())"
   ]
  },
  {
   "cell_type": "code",
   "execution_count": 27,
   "id": "ec5d6d0c",
   "metadata": {},
   "outputs": [
    {
     "name": "stdout",
     "output_type": "stream",
     "text": [
      "        user  messages\n",
      "0  sesuncedu        27\n"
     ]
    }
   ],
   "source": [
    "print(userData)"
   ]
  },
  {
   "cell_type": "code",
   "execution_count": 29,
   "id": "3262b3f5",
   "metadata": {},
   "outputs": [
    {
     "data": {
      "text/plain": [
       "'sesuncedu'"
      ]
     },
     "execution_count": 29,
     "metadata": {},
     "output_type": "execute_result"
    }
   ],
   "source": [
    "userData[\"user\"][0]"
   ]
  },
  {
   "cell_type": "code",
   "execution_count": 32,
   "id": "419d013f",
   "metadata": {},
   "outputs": [
    {
     "data": {
      "text/plain": [
       "'sesuncedu'"
      ]
     },
     "execution_count": 32,
     "metadata": {},
     "output_type": "execute_result"
    }
   ],
   "source": [
    " userData[\"user\"][0]"
   ]
  },
  {
   "cell_type": "code",
   "execution_count": 33,
   "id": "7f0db7f2",
   "metadata": {},
   "outputs": [
    {
     "data": {
      "text/plain": [
       "27"
      ]
     },
     "execution_count": 33,
     "metadata": {},
     "output_type": "execute_result"
    }
   ],
   "source": [
    "userData[\"messages\"][0]"
   ]
  },
  {
   "cell_type": "code",
   "execution_count": 37,
   "id": "c12789bd",
   "metadata": {},
   "outputs": [],
   "source": [
    "response = requests.post(BASE_URL, json=payload)"
   ]
  },
  {
   "cell_type": "code",
   "execution_count": 38,
   "id": "7a3d94a4",
   "metadata": {},
   "outputs": [
    {
     "name": "stdout",
     "output_type": "stream",
     "text": [
      "{'username': 'sesuncedu', 'chat_message': '27', 'id': '18'}\n"
     ]
    }
   ],
   "source": [
    "print(response.json())"
   ]
  },
  {
   "cell_type": "code",
   "execution_count": null,
   "id": "1865d08e",
   "metadata": {},
   "outputs": [],
   "source": []
  }
 ],
 "metadata": {
  "kernelspec": {
   "display_name": "Python 3 (ipykernel)",
   "language": "python",
   "name": "python3"
  },
  "language_info": {
   "codemirror_mode": {
    "name": "ipython",
    "version": 3
   },
   "file_extension": ".py",
   "mimetype": "text/x-python",
   "name": "python",
   "nbconvert_exporter": "python",
   "pygments_lexer": "ipython3",
   "version": "3.9.12"
  }
 },
 "nbformat": 4,
 "nbformat_minor": 5
}
